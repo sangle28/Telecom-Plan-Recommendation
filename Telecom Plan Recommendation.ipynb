{
 "cells": [
  {
   "cell_type": "markdown",
   "metadata": {},
   "source": [
    "<div style=\"border:solid green 2px; padding: 20px\"> <h1 style=\"color:green; margin-bottom:20px\">Reviewer's comment v1</h1>\n",
    "\n",
    "Hello Sang!\n",
    "\n",
    "I'm happy to review your project today  🙌\n",
    "\n",
    "You can find my comments under the heading **«Review»**. I will categorize my comments in green, blue or red boxes like this:\n",
    "\n",
    "<div class=\"alert alert-success\">\n",
    "    <b>Success:</b> if everything is done successfully\n",
    "</div>\n",
    "<div class=\"alert alert-warning\">\n",
    "    <b>Remarks:</b> if I can give some recommendations or ways to improve the project\n",
    "</div>\n",
    "<div class=\"alert alert-danger\">\n",
    "    <b>Needs fixing:</b> if the block requires some corrections. Work can't be accepted with the red comments\n",
    "</div>\n",
    "\n",
    "Please don't remove my comments. If you have any questions, don't hesitate to respond to my comments in a different section.\n",
    "<div class=\"alert alert-info\"> <b>Student comments: </div>    "
   ]
  },
  {
   "cell_type": "markdown",
   "metadata": {},
   "source": [
    "<div style=\"border:solid green 2px; padding: 20px\">\n",
    "<b>Reviewer's comment v1:</b>\n",
    "    \n",
    "<b>Overall Feedback</b> \n",
    "    \n",
    "\n",
    "Hello Sang,\n",
    "\n",
    "Another project successfully completed - well done! 🏆 Your consistent effort and progress are truly commendable.\n",
    "\n",
    "Our team is here to help you keep pushing forward and honing your skills as you advance through the program.\n",
    "\n",
    "You’ll find general comments below in the notebook in the `Reviewer's comment v1:` blocks.\n",
    "\n",
    "**What Was Great:**\n",
    "\n",
    "- Data Loading and Preparation: You successfully loaded the dataset and correctly separated the features and target variable. This is a crucial first step, and you handled it appropriately.\n",
    "- Model Selection: You chose a variety of classification models—Decision Tree, Random Forest, and Logistic Regression—which is excellent for comparing different algorithms' performance on your data.\n",
    "- Model Training and Evaluation: Using a loop to train and evaluate each model is an efficient approach. You correctly used the accuracy_score metric to assess the models and identified the Random Forest classifier as the best-performing model.\n",
    "- Test Set Evaluation: You validated the performance of your selected model on a test set, ensuring that the model generalizes well to unseen data. The test accuracy being close to the validation accuracy is a good sign.\n",
    "    \n",
    "**Tips for Future Projects:**\n",
    "    \n",
    "- Consider using GridSearchCV or RandomizedSearchCV for more systematic hyperparameter tuning. This can enhance efficiency and ensure you explore a wider range of parameters.\n",
    "- To improve model evaluation, incorporate additional metrics like F1-score, precision, recall, or ROC-AUC. These provide a more comprehensive view of your models' performance, especially with imbalanced datasets.\n",
    "- Add visualization for feature importance and add learning curves to diagnose overfitting/underfitting. \n",
    "- Create separate functions for data preprocessing, model training, and evaluation.\n",
    "    \n",
    "Congratulations again on your accomplishment! Each project you complete adds to your growing expertise, and it’s exciting to see you make such great strides. Keep up the great work! 🎯"
   ]
  },
  {
   "cell_type": "markdown",
   "metadata": {},
   "source": [
    "<div class=\"alert alert-warning\">\n",
    "<b>Reviewer's comment v1:</b>\n",
    "    \n",
    "It is always helpful for readers to have additional information about project tasks. It gives them an overview of what they will achieve in this project."
   ]
  },
  {
   "cell_type": "markdown",
   "metadata": {},
   "source": [
    "# Importing"
   ]
  },
  {
   "cell_type": "code",
   "execution_count": 1,
   "metadata": {},
   "outputs": [],
   "source": [
    "import pandas as pd\n",
    "from sklearn.model_selection import train_test_split\n",
    "from sklearn.tree import DecisionTreeClassifier\n",
    "from sklearn.metrics import accuracy_score\n",
    "from sklearn.ensemble import RandomForestClassifier\n",
    "from sklearn.linear_model import LogisticRegression\n",
    "import numpy as np"
   ]
  },
  {
   "cell_type": "markdown",
   "metadata": {},
   "source": [
    "# Loading Dataset"
   ]
  },
  {
   "cell_type": "code",
   "execution_count": 2,
   "metadata": {},
   "outputs": [],
   "source": [
    "df = pd.read_csv('/datasets/users_behavior.csv')"
   ]
  },
  {
   "cell_type": "code",
   "execution_count": 3,
   "metadata": {},
   "outputs": [
    {
     "data": {
      "text/html": [
       "<div>\n",
       "<style scoped>\n",
       "    .dataframe tbody tr th:only-of-type {\n",
       "        vertical-align: middle;\n",
       "    }\n",
       "\n",
       "    .dataframe tbody tr th {\n",
       "        vertical-align: top;\n",
       "    }\n",
       "\n",
       "    .dataframe thead th {\n",
       "        text-align: right;\n",
       "    }\n",
       "</style>\n",
       "<table border=\"1\" class=\"dataframe\">\n",
       "  <thead>\n",
       "    <tr style=\"text-align: right;\">\n",
       "      <th></th>\n",
       "      <th>calls</th>\n",
       "      <th>minutes</th>\n",
       "      <th>messages</th>\n",
       "      <th>mb_used</th>\n",
       "      <th>is_ultra</th>\n",
       "    </tr>\n",
       "  </thead>\n",
       "  <tbody>\n",
       "    <tr>\n",
       "      <th>0</th>\n",
       "      <td>40.0</td>\n",
       "      <td>311.90</td>\n",
       "      <td>83.0</td>\n",
       "      <td>19915.42</td>\n",
       "      <td>0</td>\n",
       "    </tr>\n",
       "    <tr>\n",
       "      <th>1</th>\n",
       "      <td>85.0</td>\n",
       "      <td>516.75</td>\n",
       "      <td>56.0</td>\n",
       "      <td>22696.96</td>\n",
       "      <td>0</td>\n",
       "    </tr>\n",
       "    <tr>\n",
       "      <th>2</th>\n",
       "      <td>77.0</td>\n",
       "      <td>467.66</td>\n",
       "      <td>86.0</td>\n",
       "      <td>21060.45</td>\n",
       "      <td>0</td>\n",
       "    </tr>\n",
       "    <tr>\n",
       "      <th>3</th>\n",
       "      <td>106.0</td>\n",
       "      <td>745.53</td>\n",
       "      <td>81.0</td>\n",
       "      <td>8437.39</td>\n",
       "      <td>1</td>\n",
       "    </tr>\n",
       "    <tr>\n",
       "      <th>4</th>\n",
       "      <td>66.0</td>\n",
       "      <td>418.74</td>\n",
       "      <td>1.0</td>\n",
       "      <td>14502.75</td>\n",
       "      <td>0</td>\n",
       "    </tr>\n",
       "    <tr>\n",
       "      <th>...</th>\n",
       "      <td>...</td>\n",
       "      <td>...</td>\n",
       "      <td>...</td>\n",
       "      <td>...</td>\n",
       "      <td>...</td>\n",
       "    </tr>\n",
       "    <tr>\n",
       "      <th>3209</th>\n",
       "      <td>122.0</td>\n",
       "      <td>910.98</td>\n",
       "      <td>20.0</td>\n",
       "      <td>35124.90</td>\n",
       "      <td>1</td>\n",
       "    </tr>\n",
       "    <tr>\n",
       "      <th>3210</th>\n",
       "      <td>25.0</td>\n",
       "      <td>190.36</td>\n",
       "      <td>0.0</td>\n",
       "      <td>3275.61</td>\n",
       "      <td>0</td>\n",
       "    </tr>\n",
       "    <tr>\n",
       "      <th>3211</th>\n",
       "      <td>97.0</td>\n",
       "      <td>634.44</td>\n",
       "      <td>70.0</td>\n",
       "      <td>13974.06</td>\n",
       "      <td>0</td>\n",
       "    </tr>\n",
       "    <tr>\n",
       "      <th>3212</th>\n",
       "      <td>64.0</td>\n",
       "      <td>462.32</td>\n",
       "      <td>90.0</td>\n",
       "      <td>31239.78</td>\n",
       "      <td>0</td>\n",
       "    </tr>\n",
       "    <tr>\n",
       "      <th>3213</th>\n",
       "      <td>80.0</td>\n",
       "      <td>566.09</td>\n",
       "      <td>6.0</td>\n",
       "      <td>29480.52</td>\n",
       "      <td>1</td>\n",
       "    </tr>\n",
       "  </tbody>\n",
       "</table>\n",
       "<p>3214 rows × 5 columns</p>\n",
       "</div>"
      ],
      "text/plain": [
       "      calls  minutes  messages   mb_used  is_ultra\n",
       "0      40.0   311.90      83.0  19915.42         0\n",
       "1      85.0   516.75      56.0  22696.96         0\n",
       "2      77.0   467.66      86.0  21060.45         0\n",
       "3     106.0   745.53      81.0   8437.39         1\n",
       "4      66.0   418.74       1.0  14502.75         0\n",
       "...     ...      ...       ...       ...       ...\n",
       "3209  122.0   910.98      20.0  35124.90         1\n",
       "3210   25.0   190.36       0.0   3275.61         0\n",
       "3211   97.0   634.44      70.0  13974.06         0\n",
       "3212   64.0   462.32      90.0  31239.78         0\n",
       "3213   80.0   566.09       6.0  29480.52         1\n",
       "\n",
       "[3214 rows x 5 columns]"
      ]
     },
     "execution_count": 3,
     "metadata": {},
     "output_type": "execute_result"
    }
   ],
   "source": [
    "df"
   ]
  },
  {
   "cell_type": "code",
   "execution_count": 4,
   "metadata": {},
   "outputs": [
    {
     "name": "stdout",
     "output_type": "stream",
     "text": [
      "<class 'pandas.core.frame.DataFrame'>\n",
      "RangeIndex: 3214 entries, 0 to 3213\n",
      "Data columns (total 5 columns):\n",
      " #   Column    Non-Null Count  Dtype  \n",
      "---  ------    --------------  -----  \n",
      " 0   calls     3214 non-null   float64\n",
      " 1   minutes   3214 non-null   float64\n",
      " 2   messages  3214 non-null   float64\n",
      " 3   mb_used   3214 non-null   float64\n",
      " 4   is_ultra  3214 non-null   int64  \n",
      "dtypes: float64(4), int64(1)\n",
      "memory usage: 125.7 KB\n"
     ]
    }
   ],
   "source": [
    "df.info()"
   ]
  },
  {
   "cell_type": "code",
   "execution_count": 5,
   "metadata": {},
   "outputs": [
    {
     "name": "stdout",
     "output_type": "stream",
     "text": [
      "False    3214\n",
      "dtype: int64\n"
     ]
    }
   ],
   "source": [
    "# checking for duplicates\n",
    "print(df.duplicated().value_counts())"
   ]
  },
  {
   "cell_type": "markdown",
   "metadata": {},
   "source": [
    "Observations\n",
    "\n",
    "Data types are appropriate, no missing values, and no duplicate rows. Ready to move on!"
   ]
  },
  {
   "cell_type": "markdown",
   "metadata": {},
   "source": [
    "<div class=\"alert alert-success\">\n",
    "<b>Reviewer's comment v1:</b>\n",
    "    \n",
    "Well done! Data have been successfully loaded and inspected."
   ]
  },
  {
   "cell_type": "markdown",
   "metadata": {},
   "source": [
    "# Splitting into Training, Validation, Test Sets"
   ]
  },
  {
   "cell_type": "code",
   "execution_count": 6,
   "metadata": {},
   "outputs": [],
   "source": [
    "# using train_test_split to split our data into 60% training set and 40% temp set\n",
    "\n",
    "training, temp = train_test_split(df, test_size=0.4, random_state=1)\n",
    "\n",
    "# using train_test_split again to split our temp dataset 50%, leaving a total of 20% valid and 20% test\n",
    "\n",
    "validation, testing = train_test_split(temp, test_size=0.5, random_state=1)"
   ]
  },
  {
   "cell_type": "markdown",
   "metadata": {},
   "source": [
    "<div class=\"alert alert-warning\">\n",
    "<b>Reviewer's comment v1:</b>\n",
    "    \n",
    "Consider using stratified splits (`stratify` parameter) to ensure that class distributions are similar across training, validation, and test sets.\n",
    "\n",
    "https://scikit-learn.org/1.5/modules/generated/sklearn.model_selection.train_test_split.html"
   ]
  },
  {
   "cell_type": "code",
   "execution_count": 7,
   "metadata": {},
   "outputs": [
    {
     "name": "stdout",
     "output_type": "stream",
     "text": [
      "1928\n"
     ]
    },
    {
     "data": {
      "text/html": [
       "<div>\n",
       "<style scoped>\n",
       "    .dataframe tbody tr th:only-of-type {\n",
       "        vertical-align: middle;\n",
       "    }\n",
       "\n",
       "    .dataframe tbody tr th {\n",
       "        vertical-align: top;\n",
       "    }\n",
       "\n",
       "    .dataframe thead th {\n",
       "        text-align: right;\n",
       "    }\n",
       "</style>\n",
       "<table border=\"1\" class=\"dataframe\">\n",
       "  <thead>\n",
       "    <tr style=\"text-align: right;\">\n",
       "      <th></th>\n",
       "      <th>calls</th>\n",
       "      <th>minutes</th>\n",
       "      <th>messages</th>\n",
       "      <th>mb_used</th>\n",
       "      <th>is_ultra</th>\n",
       "    </tr>\n",
       "  </thead>\n",
       "  <tbody>\n",
       "    <tr>\n",
       "      <th>1587</th>\n",
       "      <td>53.0</td>\n",
       "      <td>376.78</td>\n",
       "      <td>44.0</td>\n",
       "      <td>17334.12</td>\n",
       "      <td>0</td>\n",
       "    </tr>\n",
       "    <tr>\n",
       "      <th>11</th>\n",
       "      <td>45.0</td>\n",
       "      <td>344.32</td>\n",
       "      <td>13.0</td>\n",
       "      <td>19898.81</td>\n",
       "      <td>0</td>\n",
       "    </tr>\n",
       "    <tr>\n",
       "      <th>353</th>\n",
       "      <td>68.0</td>\n",
       "      <td>493.00</td>\n",
       "      <td>29.0</td>\n",
       "      <td>20021.73</td>\n",
       "      <td>0</td>\n",
       "    </tr>\n",
       "    <tr>\n",
       "      <th>350</th>\n",
       "      <td>65.0</td>\n",
       "      <td>423.06</td>\n",
       "      <td>40.0</td>\n",
       "      <td>18625.97</td>\n",
       "      <td>0</td>\n",
       "    </tr>\n",
       "    <tr>\n",
       "      <th>2708</th>\n",
       "      <td>45.0</td>\n",
       "      <td>296.26</td>\n",
       "      <td>75.0</td>\n",
       "      <td>13121.85</td>\n",
       "      <td>0</td>\n",
       "    </tr>\n",
       "  </tbody>\n",
       "</table>\n",
       "</div>"
      ],
      "text/plain": [
       "      calls  minutes  messages   mb_used  is_ultra\n",
       "1587   53.0   376.78      44.0  17334.12         0\n",
       "11     45.0   344.32      13.0  19898.81         0\n",
       "353    68.0   493.00      29.0  20021.73         0\n",
       "350    65.0   423.06      40.0  18625.97         0\n",
       "2708   45.0   296.26      75.0  13121.85         0"
      ]
     },
     "metadata": {},
     "output_type": "display_data"
    }
   ],
   "source": [
    "print(len(training))\n",
    "\n",
    "display(training.head())"
   ]
  },
  {
   "cell_type": "code",
   "execution_count": 8,
   "metadata": {},
   "outputs": [
    {
     "name": "stdout",
     "output_type": "stream",
     "text": [
      "643\n"
     ]
    },
    {
     "data": {
      "text/html": [
       "<div>\n",
       "<style scoped>\n",
       "    .dataframe tbody tr th:only-of-type {\n",
       "        vertical-align: middle;\n",
       "    }\n",
       "\n",
       "    .dataframe tbody tr th {\n",
       "        vertical-align: top;\n",
       "    }\n",
       "\n",
       "    .dataframe thead th {\n",
       "        text-align: right;\n",
       "    }\n",
       "</style>\n",
       "<table border=\"1\" class=\"dataframe\">\n",
       "  <thead>\n",
       "    <tr style=\"text-align: right;\">\n",
       "      <th></th>\n",
       "      <th>calls</th>\n",
       "      <th>minutes</th>\n",
       "      <th>messages</th>\n",
       "      <th>mb_used</th>\n",
       "      <th>is_ultra</th>\n",
       "    </tr>\n",
       "  </thead>\n",
       "  <tbody>\n",
       "    <tr>\n",
       "      <th>2817</th>\n",
       "      <td>12.0</td>\n",
       "      <td>86.62</td>\n",
       "      <td>22.0</td>\n",
       "      <td>36628.85</td>\n",
       "      <td>1</td>\n",
       "    </tr>\n",
       "    <tr>\n",
       "      <th>248</th>\n",
       "      <td>127.0</td>\n",
       "      <td>748.44</td>\n",
       "      <td>0.0</td>\n",
       "      <td>19369.15</td>\n",
       "      <td>0</td>\n",
       "    </tr>\n",
       "    <tr>\n",
       "      <th>1171</th>\n",
       "      <td>49.0</td>\n",
       "      <td>344.92</td>\n",
       "      <td>17.0</td>\n",
       "      <td>23383.40</td>\n",
       "      <td>0</td>\n",
       "    </tr>\n",
       "    <tr>\n",
       "      <th>1935</th>\n",
       "      <td>68.0</td>\n",
       "      <td>556.88</td>\n",
       "      <td>63.0</td>\n",
       "      <td>11114.10</td>\n",
       "      <td>0</td>\n",
       "    </tr>\n",
       "    <tr>\n",
       "      <th>2291</th>\n",
       "      <td>0.0</td>\n",
       "      <td>0.00</td>\n",
       "      <td>28.0</td>\n",
       "      <td>11864.26</td>\n",
       "      <td>1</td>\n",
       "    </tr>\n",
       "  </tbody>\n",
       "</table>\n",
       "</div>"
      ],
      "text/plain": [
       "      calls  minutes  messages   mb_used  is_ultra\n",
       "2817   12.0    86.62      22.0  36628.85         1\n",
       "248   127.0   748.44       0.0  19369.15         0\n",
       "1171   49.0   344.92      17.0  23383.40         0\n",
       "1935   68.0   556.88      63.0  11114.10         0\n",
       "2291    0.0     0.00      28.0  11864.26         1"
      ]
     },
     "metadata": {},
     "output_type": "display_data"
    }
   ],
   "source": [
    "print(len(validation))\n",
    "\n",
    "display(validation.head())"
   ]
  },
  {
   "cell_type": "code",
   "execution_count": 9,
   "metadata": {},
   "outputs": [
    {
     "name": "stdout",
     "output_type": "stream",
     "text": [
      "643\n"
     ]
    },
    {
     "data": {
      "text/html": [
       "<div>\n",
       "<style scoped>\n",
       "    .dataframe tbody tr th:only-of-type {\n",
       "        vertical-align: middle;\n",
       "    }\n",
       "\n",
       "    .dataframe tbody tr th {\n",
       "        vertical-align: top;\n",
       "    }\n",
       "\n",
       "    .dataframe thead th {\n",
       "        text-align: right;\n",
       "    }\n",
       "</style>\n",
       "<table border=\"1\" class=\"dataframe\">\n",
       "  <thead>\n",
       "    <tr style=\"text-align: right;\">\n",
       "      <th></th>\n",
       "      <th>calls</th>\n",
       "      <th>minutes</th>\n",
       "      <th>messages</th>\n",
       "      <th>mb_used</th>\n",
       "      <th>is_ultra</th>\n",
       "    </tr>\n",
       "  </thead>\n",
       "  <tbody>\n",
       "    <tr>\n",
       "      <th>1759</th>\n",
       "      <td>51.0</td>\n",
       "      <td>328.88</td>\n",
       "      <td>24.0</td>\n",
       "      <td>20511.93</td>\n",
       "      <td>0</td>\n",
       "    </tr>\n",
       "    <tr>\n",
       "      <th>2925</th>\n",
       "      <td>87.0</td>\n",
       "      <td>500.78</td>\n",
       "      <td>63.0</td>\n",
       "      <td>26115.19</td>\n",
       "      <td>0</td>\n",
       "    </tr>\n",
       "    <tr>\n",
       "      <th>1808</th>\n",
       "      <td>53.0</td>\n",
       "      <td>370.03</td>\n",
       "      <td>0.0</td>\n",
       "      <td>32581.16</td>\n",
       "      <td>1</td>\n",
       "    </tr>\n",
       "    <tr>\n",
       "      <th>615</th>\n",
       "      <td>75.0</td>\n",
       "      <td>486.63</td>\n",
       "      <td>66.0</td>\n",
       "      <td>24650.84</td>\n",
       "      <td>0</td>\n",
       "    </tr>\n",
       "    <tr>\n",
       "      <th>1944</th>\n",
       "      <td>28.0</td>\n",
       "      <td>216.05</td>\n",
       "      <td>41.0</td>\n",
       "      <td>11946.55</td>\n",
       "      <td>0</td>\n",
       "    </tr>\n",
       "  </tbody>\n",
       "</table>\n",
       "</div>"
      ],
      "text/plain": [
       "      calls  minutes  messages   mb_used  is_ultra\n",
       "1759   51.0   328.88      24.0  20511.93         0\n",
       "2925   87.0   500.78      63.0  26115.19         0\n",
       "1808   53.0   370.03       0.0  32581.16         1\n",
       "615    75.0   486.63      66.0  24650.84         0\n",
       "1944   28.0   216.05      41.0  11946.55         0"
      ]
     },
     "metadata": {},
     "output_type": "display_data"
    }
   ],
   "source": [
    "print(len(testing))\n",
    "\n",
    "display(testing.head())"
   ]
  },
  {
   "cell_type": "markdown",
   "metadata": {},
   "source": [
    "Observations\n",
    "\n",
    "I was able to successfully split the original dataset into 60% training, 20% validation and 20% test."
   ]
  },
  {
   "cell_type": "markdown",
   "metadata": {},
   "source": [
    "# Model Training"
   ]
  },
  {
   "cell_type": "markdown",
   "metadata": {},
   "source": [
    "Splitting datasets into targets and features"
   ]
  },
  {
   "cell_type": "code",
   "execution_count": 10,
   "metadata": {},
   "outputs": [],
   "source": [
    "# splitting each dataset into features and targets\n",
    "\n",
    "training_features = training.drop('is_ultra', axis=1)\n",
    "training_target = training['is_ultra']\n",
    "\n",
    "validation_features = validation.drop('is_ultra', axis=1)\n",
    "validation_target = validation['is_ultra']\n",
    "\n",
    "testing_features = testing.drop('is_ultra', axis=1)\n",
    "testing_target = testing['is_ultra']"
   ]
  },
  {
   "cell_type": "markdown",
   "metadata": {},
   "source": [
    "<div class=\"alert alert-warning\">\n",
    "<b>Reviewer's comment v1:</b>\n",
    "\n",
    "As a second approach you could print the sizes of dataframes using `shape` and `f-strings`\n",
    "\n",
    "```\n",
    "f'Size of the dataframe {testing.shape}'\n",
    "```"
   ]
  },
  {
   "cell_type": "markdown",
   "metadata": {},
   "source": [
    "# Training and evaluating various models"
   ]
  },
  {
   "cell_type": "markdown",
   "metadata": {},
   "source": [
    "Decision Tree\n",
    "\n",
    "Evaluating the hyperparameters of the decision tree"
   ]
  },
  {
   "cell_type": "code",
   "execution_count": 11,
   "metadata": {},
   "outputs": [
    {
     "name": "stdout",
     "output_type": "stream",
     "text": [
      "max_depth = 1 : 0.71850699844479\n",
      "max_depth = 2 : 0.7558320373250389\n",
      "max_depth = 3 : 0.7713841368584758\n",
      "max_depth = 4 : 0.7682737169517885\n",
      "max_depth = 5 : 0.7698289269051322\n",
      "max_depth = 6 : 0.7713841368584758\n",
      "max_depth = 7 : 0.7776049766718507\n",
      "max_depth = 8 : 0.7869362363919129\n",
      "max_depth = 9 : 0.7962674961119751\n"
     ]
    }
   ],
   "source": [
    "for depth in range(1, 10):\n",
    "    model_tree = DecisionTreeClassifier(random_state=1, max_depth=depth) # testing various max_depth values\n",
    "    model_tree.fit(training_features, training_target) # training model on training set\n",
    "\n",
    "    predictions_valid = model_tree.predict(validation_features) # running predictions with validation set\n",
    "\n",
    "    print(\"max_depth =\", depth, \": \", end='')\n",
    "    print(accuracy_score(validation_target, predictions_valid)) # calculating accuracy of validation predictions vs target"
   ]
  },
  {
   "cell_type": "markdown",
   "metadata": {},
   "source": [
    "Random Forest\n",
    "\n",
    "Evaluating the hyperparameters of the decision tree"
   ]
  },
  {
   "cell_type": "code",
   "execution_count": 12,
   "metadata": {},
   "outputs": [
    {
     "name": "stdout",
     "output_type": "stream",
     "text": [
      "Accuracy of the best model on the validation set (n_estimators = 10, max_depth = 9): 0.7931570762052877\n"
     ]
    }
   ],
   "source": [
    "best_score = 0\n",
    "best_est = 0\n",
    "\n",
    "for est in range(10, 51, 10):\n",
    "    for depth in range (1, 10):\n",
    "        model_forest = RandomForestClassifier(random_state=1,\n",
    "                                              n_estimators=est,\n",
    "                                              max_depth=depth) # set number of trees/max depth\n",
    "        model_forest.fit(training_features, training_target) # train model on training set\n",
    "        score = model_forest.score(validation_features, validation_target) # calculate accuracy score on validation set\n",
    "        if score > best_score:\n",
    "            best_score = score # save best accuracy score on validation set\n",
    "            best_est = est # save number of estimators corresponding to best accuracy score\n",
    "            best_depth = depth # save the value of max_depth corresponding to best accuracy score\n",
    "\n",
    "print(\"Accuracy of the best model on the validation set (n_estimators = {}, max_depth = {}): {}\".format(best_est,\n",
    "                                                                                                        best_depth,\n",
    "                                                                                                        best_score))"
   ]
  },
  {
   "cell_type": "markdown",
   "metadata": {},
   "source": [
    "Logistic Regression\n",
    "\n",
    "Evaluating the accuracy of logistic regression\n"
   ]
  },
  {
   "cell_type": "code",
   "execution_count": 13,
   "metadata": {},
   "outputs": [
    {
     "name": "stdout",
     "output_type": "stream",
     "text": [
      "Accuracy of the logistic regression model on the training set: 0.7240663900414938\n",
      "Accuracy of the logistic regression model on the validation set: 0.6889580093312597\n"
     ]
    }
   ],
   "source": [
    "model_lr = LogisticRegression(random_state=54321, solver='liblinear')\n",
    "model_lr.fit(training_features, training_target)  # train model on training set\n",
    "score_train = model_lr.score(training_features, training_target)\n",
    "score_valid = model_lr.score(validation_features, validation_target)\n",
    "\n",
    "print(\n",
    "    \"Accuracy of the logistic regression model on the training set:\",\n",
    "    score_train,\n",
    ")\n",
    "print(\n",
    "    \"Accuracy of the logistic regression model on the validation set:\",\n",
    "    score_valid,\n",
    ")"
   ]
  },
  {
   "cell_type": "markdown",
   "metadata": {},
   "source": [
    "<div class=\"alert alert-success\">\n",
    "<b>Reviewer's comment v1:</b>\n",
    "    \n",
    "Everything is correct here! Great that you've managed to check multiple models. \n",
    "\n",
    "Some possible minor improvements: \n",
    "\n",
    "- Besides accuracy, consider evaluating models using additional metrics like F1-score, precision, recall, or the ROC-AUC score for a more holistic view of performance, especially if the class distribution is imbalanced.\n",
    "- Consider using GridSearchCV or RandomizedSearchCV from sklearn.model_selection for a more systematic hyperparameter search."
   ]
  },
  {
   "cell_type": "markdown",
   "metadata": {},
   "source": [
    "Observations\n",
    "\n",
    "After tuning the hyperparameters and evaluating each model, the most accurate is the Decision Tree, with a max_depth of 9. The Random Forest evaluated to be very close in accuracy, but it takes longer to run, so the Decision Tree wins in both accuracy and speed this time. We will be moving forward with the Decision Tree with a max_depth of 9."
   ]
  },
  {
   "cell_type": "code",
   "execution_count": 14,
   "metadata": {},
   "outputs": [
    {
     "name": "stdout",
     "output_type": "stream",
     "text": [
      "Final Model Accuracy Score: 0.7931570762052877\n"
     ]
    }
   ],
   "source": [
    "# using the hyperparameters from the Decision Tree tuning above\n",
    "final_model = DecisionTreeClassifier(random_state=1, max_depth=9)\n",
    "final_model.fit(training_features, training_target)\n",
    "\n",
    "score_test = final_model.score(testing_features, testing_target)\n",
    "\n",
    "print('Final Model Accuracy Score:', score)"
   ]
  },
  {
   "cell_type": "markdown",
   "metadata": {},
   "source": [
    "<div class=\"alert alert-success\">\n",
    "<b>Reviewer's comment v1:</b>\n",
    "    \n",
    "Great! Well above the required threshold. "
   ]
  },
  {
   "cell_type": "markdown",
   "metadata": {},
   "source": [
    "Observations\n",
    "\n",
    "The final model (decision tree with max_depth of 9) ends with an accuracy score of 0.79, pretty good!\n",
    "\n",
    "Sanity Check\n",
    "\n",
    "Final step is to run through a sanity check with the model, so I can be sure that the model actually learned something, and performs better than something like randomly assigning a customer a plan."
   ]
  },
  {
   "cell_type": "code",
   "execution_count": 15,
   "metadata": {},
   "outputs": [],
   "source": [
    "# new series, sanity, will be equivalent to randomly selecting a plan for customers\n",
    "sanity = np.random.choice([0, 1], size=len(testing_target))"
   ]
  },
  {
   "cell_type": "code",
   "execution_count": 16,
   "metadata": {},
   "outputs": [
    {
     "name": "stdout",
     "output_type": "stream",
     "text": [
      "Sanity Check score: 0.48055987558320373\n"
     ]
    }
   ],
   "source": [
    "sanity_score = final_model.score(testing_features, sanity)\n",
    "\n",
    "print('Sanity Check score:', sanity_score)"
   ]
  },
  {
   "cell_type": "markdown",
   "metadata": {},
   "source": [
    "<div class=\"alert alert-warning\">\n",
    "<b>Reviewer's comment v1:</b>\n",
    "    \n",
    "**Additional task: sanity check the model.** \n",
    " \n",
    "The use of `DummyClassifier` is a good practice for baseline performance and finalizing sanity check. You could read about it [here](https://scikit-learn.org/stable/modules/generated/sklearn.dummy.DummyClassifier.html). In our case, we have a very skewed distribution of users across the two plans. As you can see, only 30% are enrolled in the Ultra plan, therefore it could be usefull to use a particular strategy (e.g., `most_frequent`) and comparing it against the chosen model’s performance.\n",
    "    \n",
    "```\n",
    "from sklearn.dummy import DummyClassifier\n",
    "# Initialize the DummyClassifier to predict the most frequent class\n",
    "dummy_clf = DummyClassifier(strategy=\"most_frequent\", random_state=0)\n",
    "# Fit the dummy classifier on the training data\n",
    "...\n",
    "```"
   ]
  },
  {
   "cell_type": "markdown",
   "metadata": {},
   "source": [
    "# Conclusions"
   ]
  },
  {
   "cell_type": "markdown",
   "metadata": {},
   "source": [
    "Throughout this project, I:\n",
    "\n",
    "Loaded in the dataset of user behavior\n",
    "Made sure the data was appropriate and ready to be utilized in machine learning models\n",
    "Split the data into 3 sets, for training, validation and testing, at at 3:1:1 ratio\n",
    "Began training various models and tuning hyperparameters to figure out which model was the most accurate\n",
    "Trained our final model and tested it using the test dataset\n",
    "Performed a sanity check on our model\n",
    "I chose to go with the Decision Tree Model, because it had the highest accuracy, and it is also a faster model than the Random Forest. Logistic Regression did not meet the accuracy threshold for the project, so I ignored it.\n",
    "\n",
    "I performed a sanity check by testing the model against a random assignment of plans to customers. This performed roughly as expected, right around 50%.\n",
    "\n",
    "My model's performance at 0.793 indicated that there are indeed learned patterns in my model, as it performs significantly better than random assignemtn of plans to customers.\n",
    "\n",
    "As I continue to advance through this course, I hope to be able to return to this project with more knowledge to improve the performance of this model (or create a new one altogether)."
   ]
  },
  {
   "cell_type": "markdown",
   "metadata": {},
   "source": [
    "# Experimentation"
   ]
  },
  {
   "cell_type": "markdown",
   "metadata": {},
   "source": [
    "Using GridSearchCV to evaluate more hyperparameters of random forest"
   ]
  },
  {
   "cell_type": "code",
   "execution_count": 23,
   "metadata": {},
   "outputs": [],
   "source": [
    "from sklearn.model_selection import GridSearchCV"
   ]
  },
  {
   "cell_type": "code",
   "execution_count": 24,
   "metadata": {},
   "outputs": [],
   "source": [
    "param_grid = {\n",
    "    'n_estimators': [100, 200, 300],\n",
    "    'max_depth': [None, 10, 20, 30],\n",
    "    'min_samples_split': [2, 5, 10],\n",
    "    'min_samples_leaf': [1, 2, 4],\n",
    "    'bootstrap': [True, False]\n",
    "}"
   ]
  },
  {
   "cell_type": "code",
   "execution_count": 25,
   "metadata": {},
   "outputs": [],
   "source": [
    "rf_model = RandomForestClassifier()\n",
    "grid_search = GridSearchCV(rf_model, param_grid, cv=5)"
   ]
  },
  {
   "cell_type": "code",
   "execution_count": null,
   "metadata": {},
   "outputs": [],
   "source": [
    "grid_search.fit(training_features, training_target)"
   ]
  },
  {
   "cell_type": "code",
   "execution_count": null,
   "metadata": {},
   "outputs": [],
   "source": [
    "best_params = grid_search.best_params_\n",
    "best_est = grid_search.best_estimator_"
   ]
  },
  {
   "cell_type": "code",
   "execution_count": null,
   "metadata": {},
   "outputs": [],
   "source": [
    "best_model_score = grid_search.score(testing_features, testing_target)\n",
    "\n",
    "print(best_model_score)"
   ]
  },
  {
   "cell_type": "markdown",
   "metadata": {},
   "source": [
    "<div class=\"alert alert-success\">\n",
    "<b>Reviewer's comment v1:</b>\n",
    "    \n",
    "\n",
    "Great job on your overall conclusions and recommendations!  Your recommendations are well-thought and could be very valuable to the business."
   ]
  }
 ],
 "metadata": {
  "ExecuteTimeLog": [
   {
    "duration": 812,
    "start_time": "2024-12-09T15:24:34.490Z"
   },
   {
    "duration": 14,
    "start_time": "2024-12-09T15:24:35.304Z"
   },
   {
    "duration": 14,
    "start_time": "2024-12-09T15:24:35.320Z"
   },
   {
    "duration": 8,
    "start_time": "2024-12-09T15:24:35.336Z"
   },
   {
    "duration": 5,
    "start_time": "2024-12-09T15:24:35.346Z"
   },
   {
    "duration": 4,
    "start_time": "2024-12-09T15:24:35.353Z"
   },
   {
    "duration": 36,
    "start_time": "2024-12-09T15:24:35.359Z"
   },
   {
    "duration": 8,
    "start_time": "2024-12-09T15:24:35.396Z"
   },
   {
    "duration": 7,
    "start_time": "2024-12-09T15:24:35.406Z"
   },
   {
    "duration": 4,
    "start_time": "2024-12-09T15:24:35.415Z"
   },
   {
    "duration": 69,
    "start_time": "2024-12-09T15:24:35.420Z"
   },
   {
    "duration": 2503,
    "start_time": "2024-12-09T15:24:35.498Z"
   },
   {
    "duration": 4,
    "start_time": "2024-12-09T15:24:38.003Z"
   },
   {
    "duration": 0,
    "start_time": "2024-12-09T15:24:38.008Z"
   },
   {
    "duration": 0,
    "start_time": "2024-12-09T15:24:38.009Z"
   },
   {
    "duration": 0,
    "start_time": "2024-12-09T15:24:38.011Z"
   },
   {
    "duration": 0,
    "start_time": "2024-12-09T15:24:38.012Z"
   },
   {
    "duration": 0,
    "start_time": "2024-12-09T15:24:38.013Z"
   },
   {
    "duration": 0,
    "start_time": "2024-12-09T15:24:38.014Z"
   },
   {
    "duration": 0,
    "start_time": "2024-12-09T15:24:38.015Z"
   },
   {
    "duration": 0,
    "start_time": "2024-12-09T15:24:38.016Z"
   },
   {
    "duration": 0,
    "start_time": "2024-12-09T15:24:38.018Z"
   },
   {
    "duration": 12,
    "start_time": "2024-12-09T15:25:55.790Z"
   },
   {
    "duration": 2,
    "start_time": "2024-12-09T15:26:12.749Z"
   },
   {
    "duration": 8,
    "start_time": "2024-12-09T15:26:12.754Z"
   },
   {
    "duration": 35,
    "start_time": "2024-12-09T15:26:12.763Z"
   },
   {
    "duration": 8,
    "start_time": "2024-12-09T15:26:12.799Z"
   },
   {
    "duration": 5,
    "start_time": "2024-12-09T15:26:12.809Z"
   },
   {
    "duration": 4,
    "start_time": "2024-12-09T15:26:12.817Z"
   },
   {
    "duration": 8,
    "start_time": "2024-12-09T15:26:12.823Z"
   },
   {
    "duration": 8,
    "start_time": "2024-12-09T15:26:12.833Z"
   },
   {
    "duration": 9,
    "start_time": "2024-12-09T15:26:12.842Z"
   },
   {
    "duration": 5,
    "start_time": "2024-12-09T15:26:12.874Z"
   },
   {
    "duration": 60,
    "start_time": "2024-12-09T15:26:12.880Z"
   },
   {
    "duration": 2446,
    "start_time": "2024-12-09T15:26:12.943Z"
   },
   {
    "duration": 11,
    "start_time": "2024-12-09T15:26:15.398Z"
   },
   {
    "duration": 10,
    "start_time": "2024-12-09T15:26:15.411Z"
   },
   {
    "duration": 3,
    "start_time": "2024-12-09T15:26:15.422Z"
   },
   {
    "duration": 5,
    "start_time": "2024-12-09T15:26:15.426Z"
   },
   {
    "duration": 3,
    "start_time": "2024-12-09T15:26:15.432Z"
   },
   {
    "duration": 3,
    "start_time": "2024-12-09T15:26:15.436Z"
   },
   {
    "duration": 3,
    "start_time": "2024-12-09T15:26:15.441Z"
   },
   {
    "duration": 803,
    "start_time": "2024-12-09T15:29:00.032Z"
   },
   {
    "duration": 11,
    "start_time": "2024-12-09T15:29:00.838Z"
   },
   {
    "duration": 21,
    "start_time": "2024-12-09T15:29:00.850Z"
   },
   {
    "duration": 9,
    "start_time": "2024-12-09T15:29:00.873Z"
   },
   {
    "duration": 5,
    "start_time": "2024-12-09T15:29:00.884Z"
   },
   {
    "duration": 6,
    "start_time": "2024-12-09T15:29:00.890Z"
   },
   {
    "duration": 9,
    "start_time": "2024-12-09T15:29:00.897Z"
   },
   {
    "duration": 8,
    "start_time": "2024-12-09T15:29:00.908Z"
   },
   {
    "duration": 7,
    "start_time": "2024-12-09T15:29:00.918Z"
   },
   {
    "duration": 45,
    "start_time": "2024-12-09T15:29:00.927Z"
   },
   {
    "duration": 55,
    "start_time": "2024-12-09T15:29:00.974Z"
   },
   {
    "duration": 2452,
    "start_time": "2024-12-09T15:29:01.031Z"
   },
   {
    "duration": 12,
    "start_time": "2024-12-09T15:29:03.485Z"
   },
   {
    "duration": 12,
    "start_time": "2024-12-09T15:29:03.500Z"
   },
   {
    "duration": 3,
    "start_time": "2024-12-09T15:29:03.514Z"
   },
   {
    "duration": 5,
    "start_time": "2024-12-09T15:29:03.519Z"
   },
   {
    "duration": 3,
    "start_time": "2024-12-09T15:29:03.527Z"
   },
   {
    "duration": 4,
    "start_time": "2024-12-09T15:29:03.531Z"
   },
   {
    "duration": 3,
    "start_time": "2024-12-09T15:29:03.571Z"
   },
   {
    "duration": 592311,
    "start_time": "2024-12-09T15:29:03.576Z"
   },
   {
    "duration": 2,
    "start_time": "2024-12-09T15:38:55.889Z"
   },
   {
    "duration": 29,
    "start_time": "2024-12-09T15:38:55.892Z"
   },
   {
    "duration": 810,
    "start_time": "2024-12-09T18:00:42.787Z"
   },
   {
    "duration": 8,
    "start_time": "2024-12-09T18:00:43.599Z"
   },
   {
    "duration": 13,
    "start_time": "2024-12-09T18:00:43.609Z"
   },
   {
    "duration": 9,
    "start_time": "2024-12-09T18:00:43.623Z"
   },
   {
    "duration": 5,
    "start_time": "2024-12-09T18:00:43.634Z"
   },
   {
    "duration": 30,
    "start_time": "2024-12-09T18:00:43.640Z"
   },
   {
    "duration": 9,
    "start_time": "2024-12-09T18:00:43.672Z"
   },
   {
    "duration": 8,
    "start_time": "2024-12-09T18:00:43.682Z"
   },
   {
    "duration": 8,
    "start_time": "2024-12-09T18:00:43.691Z"
   },
   {
    "duration": 4,
    "start_time": "2024-12-09T18:00:43.701Z"
   },
   {
    "duration": 84,
    "start_time": "2024-12-09T18:00:43.707Z"
   },
   {
    "duration": 2384,
    "start_time": "2024-12-09T18:00:43.793Z"
   },
   {
    "duration": 11,
    "start_time": "2024-12-09T18:00:46.179Z"
   },
   {
    "duration": 10,
    "start_time": "2024-12-09T18:00:46.193Z"
   },
   {
    "duration": 3,
    "start_time": "2024-12-09T18:00:46.205Z"
   },
   {
    "duration": 5,
    "start_time": "2024-12-09T18:00:46.209Z"
   },
   {
    "duration": 2,
    "start_time": "2024-12-09T18:00:46.216Z"
   },
   {
    "duration": 4,
    "start_time": "2024-12-09T18:00:46.220Z"
   },
   {
    "duration": 3,
    "start_time": "2024-12-09T18:00:46.226Z"
   },
   {
    "duration": 408462,
    "start_time": "2024-12-09T18:00:46.230Z"
   },
   {
    "duration": 0,
    "start_time": "2024-12-09T18:07:34.694Z"
   },
   {
    "duration": 0,
    "start_time": "2024-12-09T18:07:34.696Z"
   },
   {
    "duration": 0,
    "start_time": "2024-12-09T18:07:34.697Z"
   },
   {
    "duration": 0,
    "start_time": "2024-12-09T18:07:34.700Z"
   },
   {
    "duration": 3,
    "start_time": "2024-12-09T18:07:35.485Z"
   },
   {
    "duration": 44,
    "start_time": "2024-12-09T18:08:26.957Z"
   },
   {
    "duration": 2,
    "start_time": "2024-12-09T18:08:29.951Z"
   },
   {
    "duration": 2,
    "start_time": "2024-12-09T18:08:30.115Z"
   },
   {
    "duration": 3,
    "start_time": "2024-12-09T18:08:30.262Z"
   }
  ],
  "kernelspec": {
   "display_name": "Python 3 (ipykernel)",
   "language": "python",
   "name": "python3"
  },
  "language_info": {
   "codemirror_mode": {
    "name": "ipython",
    "version": 3
   },
   "file_extension": ".py",
   "mimetype": "text/x-python",
   "name": "python",
   "nbconvert_exporter": "python",
   "pygments_lexer": "ipython3",
   "version": "3.9.19"
  },
  "toc": {
   "base_numbering": 1,
   "nav_menu": {},
   "number_sections": true,
   "sideBar": true,
   "skip_h1_title": true,
   "title_cell": "Table of Contents",
   "title_sidebar": "Contents",
   "toc_cell": false,
   "toc_position": {},
   "toc_section_display": true,
   "toc_window_display": false
  }
 },
 "nbformat": 4,
 "nbformat_minor": 2
}
